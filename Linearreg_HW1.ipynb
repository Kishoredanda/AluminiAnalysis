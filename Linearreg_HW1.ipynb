{
 "cells": [
  {
   "cell_type": "code",
   "execution_count": 15,
   "id": "9a234d84",
   "metadata": {},
   "outputs": [],
   "source": [
    "#importing necessary libraries\n",
    "import pandas as pd\n",
    "import statsmodels.api as sm\n",
    "import statsmodels.formula.api as smf\n",
    "import random\n",
    "import numpy as np\n",
    "from sklearn.linear_model import LinearRegression\n",
    "from sklearn.model_selection import train_test_split\n",
    "from sklearn.metrics import mean_squared_error\n",
    "import matplotlib.pyplot as plt\n",
    "import statistics\n",
    "import matplotlib"
   ]
  },
  {
   "cell_type": "markdown",
   "id": "213822d1",
   "metadata": {},
   "source": [
    "# Question 1"
   ]
  },
  {
   "cell_type": "code",
   "execution_count": 14,
   "id": "babdd98c",
   "metadata": {},
   "outputs": [
    {
     "data": {
      "text/html": [
       "<div>\n",
       "<style scoped>\n",
       "    .dataframe tbody tr th:only-of-type {\n",
       "        vertical-align: middle;\n",
       "    }\n",
       "\n",
       "    .dataframe tbody tr th {\n",
       "        vertical-align: top;\n",
       "    }\n",
       "\n",
       "    .dataframe thead th {\n",
       "        text-align: right;\n",
       "    }\n",
       "</style>\n",
       "<table border=\"1\" class=\"dataframe\">\n",
       "  <thead>\n",
       "    <tr style=\"text-align: right;\">\n",
       "      <th></th>\n",
       "      <th>school</th>\n",
       "      <th>percent_of_classes_under_20</th>\n",
       "      <th>student_faculty_ratio</th>\n",
       "      <th>alumni_giving_rate</th>\n",
       "      <th>private</th>\n",
       "    </tr>\n",
       "  </thead>\n",
       "  <tbody>\n",
       "    <tr>\n",
       "      <th>0</th>\n",
       "      <td>Boston College</td>\n",
       "      <td>39</td>\n",
       "      <td>13</td>\n",
       "      <td>25</td>\n",
       "      <td>1</td>\n",
       "    </tr>\n",
       "    <tr>\n",
       "      <th>1</th>\n",
       "      <td>Brandeis University</td>\n",
       "      <td>68</td>\n",
       "      <td>8</td>\n",
       "      <td>33</td>\n",
       "      <td>1</td>\n",
       "    </tr>\n",
       "    <tr>\n",
       "      <th>2</th>\n",
       "      <td>Brown University</td>\n",
       "      <td>60</td>\n",
       "      <td>8</td>\n",
       "      <td>40</td>\n",
       "      <td>1</td>\n",
       "    </tr>\n",
       "    <tr>\n",
       "      <th>3</th>\n",
       "      <td>California Institute of Technology</td>\n",
       "      <td>65</td>\n",
       "      <td>3</td>\n",
       "      <td>46</td>\n",
       "      <td>1</td>\n",
       "    </tr>\n",
       "    <tr>\n",
       "      <th>4</th>\n",
       "      <td>Carnegie Mellon University</td>\n",
       "      <td>67</td>\n",
       "      <td>10</td>\n",
       "      <td>28</td>\n",
       "      <td>1</td>\n",
       "    </tr>\n",
       "  </tbody>\n",
       "</table>\n",
       "</div>"
      ],
      "text/plain": [
       "                               school  percent_of_classes_under_20  \\\n",
       "0                      Boston College                           39   \n",
       "1                Brandeis University                            68   \n",
       "2                    Brown University                           60   \n",
       "3  California Institute of Technology                           65   \n",
       "4          Carnegie Mellon University                           67   \n",
       "\n",
       "   student_faculty_ratio  alumni_giving_rate  private  \n",
       "0                     13                  25        1  \n",
       "1                      8                  33        1  \n",
       "2                      8                  40        1  \n",
       "3                      3                  46        1  \n",
       "4                     10                  28        1  "
      ]
     },
     "execution_count": 14,
     "metadata": {},
     "output_type": "execute_result"
    }
   ],
   "source": [
    "#Load the dataset\n",
    "alumni = pd.read_csv('E:\\\\Linearreg\\\\alumni.csv')\n",
    "alumni.head()"
   ]
  },
  {
   "cell_type": "code",
   "execution_count": 27,
   "id": "e90955ee",
   "metadata": {},
   "outputs": [
    {
     "name": "stdout",
     "output_type": "stream",
     "text": [
      "Median of Y: 29.0000\n",
      "variance of Y: 180.6698\n",
      "Standard deviation of Y: 13.4413\n",
      "Median of X: 59.5000\n",
      "variance of X: 174.0740\n",
      "Standard deviation of X: 13.1937\n",
      "Interquartile Range of X: 21.5000\n",
      "Interquartile Range of Y: 19.7500\n"
     ]
    }
   ],
   "source": [
    "Y = alumni['alumni_giving_rate']     #response variable\n",
    "X = alumni['percent_of_classes_under_20']   #predictor variable\n",
    "print(\"Median of Y: %.4f\" % statistics.median(Y))\n",
    "print(\"variance of Y: %.4f\" % statistics.variance(Y))\n",
    "print(\"Standard deviation of Y: %.4f\" % statistics.stdev(Y))\n",
    "print(\"Median of X: %.4f\" % statistics.median(X))\n",
    "print(\"variance of X: %.4f\" % statistics.variance(X))\n",
    "print(\"Standard deviation of X: %.4f\" % statistics.stdev(X))\n",
    "\n",
    "Q1_X=alumni['percent_of_classes_under_20'].quantile(0.25)\n",
    "Q3_X=alumni['percent_of_classes_under_20'].quantile(0.75)\n",
    "IQR_X=Q3_X-Q1_X\n",
    "Q1_Y=alumni['alumni_giving_rate'].quantile(0.25)\n",
    "Q3_Y=alumni['alumni_giving_rate'].quantile(0.75)\n",
    "IQR_Y=Q3_Y-Q1_Y\n",
    "print(\"Interquartile Range of X: %.4f\" % IQR_X)\n",
    "print(\"Interquartile Range of Y: %.4f\" % IQR_Y)"
   ]
  },
  {
   "cell_type": "code",
   "execution_count": 13,
   "id": "f9d25d76",
   "metadata": {},
   "outputs": [
    {
     "data": {
      "text/plain": [
       "count    48.000000\n",
       "mean     29.270833\n",
       "std      13.441346\n",
       "min       7.000000\n",
       "25%      18.750000\n",
       "50%      29.000000\n",
       "75%      38.500000\n",
       "max      67.000000\n",
       "Name: alumni_giving_rate, dtype: float64"
      ]
     },
     "execution_count": 13,
     "metadata": {},
     "output_type": "execute_result"
    }
   ],
   "source": [
    "#Summary statistics of Y\n",
    "Y.describe()"
   ]
  },
  {
   "cell_type": "code",
   "execution_count": 14,
   "id": "15377c94",
   "metadata": {},
   "outputs": [
    {
     "data": {
      "text/plain": [
       "count    48.000000\n",
       "mean     55.729167\n",
       "std      13.193712\n",
       "min      29.000000\n",
       "25%      44.750000\n",
       "50%      59.500000\n",
       "75%      66.250000\n",
       "max      77.000000\n",
       "Name: percent_of_classes_under_20, dtype: float64"
      ]
     },
     "execution_count": 14,
     "metadata": {},
     "output_type": "execute_result"
    }
   ],
   "source": [
    "#Summary statistics of X\n",
    "X.describe()"
   ]
  },
  {
   "cell_type": "code",
   "execution_count": 20,
   "id": "90af4e31",
   "metadata": {},
   "outputs": [
    {
     "data": {
      "image/png": "[encoded data removed]",
      "text/plain": [
       "<Figure size 864x576 with 1 Axes>"
      ]
     },
     "metadata": {
      "needs_background": "light"
     },
     "output_type": "display_data"
    }
   ],
   "source": [
    "#Variables X & Y are continuous \n",
    "Y_X_boxplots = alumni.boxplot(column=['alumni_giving_rate','percent_of_classes_under_20'],figsize=(12,8))"
   ]
  },
  {
   "cell_type": "code",
   "execution_count": 25,
   "id": "0d4a4533",
   "metadata": {},
   "outputs": [
    {
     "data": {
      "text/html": [
       "<div>\n",
       "<style scoped>\n",
       "    .dataframe tbody tr th:only-of-type {\n",
       "        vertical-align: middle;\n",
       "    }\n",
       "\n",
       "    .dataframe tbody tr th {\n",
       "        vertical-align: top;\n",
       "    }\n",
       "\n",
       "    .dataframe thead th {\n",
       "        text-align: right;\n",
       "    }\n",
       "</style>\n",
       "<table border=\"1\" class=\"dataframe\">\n",
       "  <thead>\n",
       "    <tr style=\"text-align: right;\">\n",
       "      <th></th>\n",
       "      <th>alumni_giving_rate</th>\n",
       "      <th>percent_of_classes_under_20</th>\n",
       "    </tr>\n",
       "  </thead>\n",
       "  <tbody>\n",
       "    <tr>\n",
       "      <th>alumni_giving_rate</th>\n",
       "      <td>1.00000</td>\n",
       "      <td>0.64565</td>\n",
       "    </tr>\n",
       "    <tr>\n",
       "      <th>percent_of_classes_under_20</th>\n",
       "      <td>0.64565</td>\n",
       "      <td>1.00000</td>\n",
       "    </tr>\n",
       "  </tbody>\n",
       "</table>\n",
       "</div>"
      ],
      "text/plain": [
       "                             alumni_giving_rate  percent_of_classes_under_20\n",
       "alumni_giving_rate                      1.00000                      0.64565\n",
       "percent_of_classes_under_20             0.64565                      1.00000"
      ]
     },
     "execution_count": 25,
     "metadata": {},
     "output_type": "execute_result"
    }
   ],
   "source": [
    "#correlation b/w Y & X variables\n",
    "Y_X_df = alumni[['alumni_giving_rate','percent_of_classes_under_20']]\n",
    "Y_X_df.corr()"
   ]
  },
  {
   "cell_type": "code",
   "execution_count": 29,
   "id": "c48d7c66",
   "metadata": {},
   "outputs": [
    {
     "data": {
      "text/plain": [
       "<AxesSubplot:xlabel='percent_of_classes_under_20', ylabel='alumni_giving_rate'>"
      ]
     },
     "execution_count": 29,
     "metadata": {},
     "output_type": "execute_result"
    },
    {
     "data": {
      "image/png": "[encoded data removed]",
      "text/plain": [
       "<Figure size 432x288 with 1 Axes>"
      ]
     },
     "metadata": {
      "needs_background": "light"
     },
     "output_type": "display_data"
    }
   ],
   "source": [
    "#scatter plot\n",
    "alumni.plot(kind='scatter',x='percent_of_classes_under_20',y='alumni_giving_rate',alpha=1)"
   ]
  },
  {
   "cell_type": "code",
   "execution_count": 31,
   "id": "8f24ac1c",
   "metadata": {},
   "outputs": [
    {
     "name": "stdout",
     "output_type": "stream",
     "text": [
      "                            OLS Regression Results                            \n",
      "==============================================================================\n",
      "Dep. Variable:     alumni_giving_rate   R-squared:                       0.417\n",
      "Model:                            OLS   Adj. R-squared:                  0.404\n",
      "Method:                 Least Squares   F-statistic:                     32.88\n",
      "Date:                Fri, 15 Oct 2021   Prob (F-statistic):           7.23e-07\n",
      "Time:                        15:44:43   Log-Likelihood:                -179.38\n",
      "No. Observations:                  48   AIC:                             362.8\n",
      "Df Residuals:                      46   BIC:                             366.5\n",
      "Df Model:                           1                                         \n",
      "Covariance Type:            nonrobust                                         \n",
      "===============================================================================================\n",
      "                                  coef    std err          t      P>|t|      [0.025      0.975]\n",
      "-----------------------------------------------------------------------------------------------\n",
      "Intercept                      -7.3861      6.565     -1.125      0.266     -20.602       5.830\n",
      "percent_of_classes_under_20     0.6578      0.115      5.734      0.000       0.427       0.889\n",
      "==============================================================================\n",
      "Omnibus:                        2.910   Durbin-Watson:                   1.580\n",
      "Prob(Omnibus):                  0.233   Jarque-Bera (JB):                2.097\n",
      "Skew:                           0.499   Prob(JB):                        0.350\n",
      "Kurtosis:                       3.230   Cond. No.                         251.\n",
      "==============================================================================\n",
      "\n",
      "Notes:\n",
      "[1] Standard Errors assume that the covariance matrix of the errors is correctly specified.\n"
     ]
    }
   ],
   "source": [
    "#OLS Linear Regression\n",
    "results=smf.ols('alumni_giving_rate ~ percent_of_classes_under_20',data=alumni).fit()\n",
    "print(results.summary())"
   ]
  },
  {
   "cell_type": "markdown",
   "id": "d3db1550",
   "metadata": {},
   "source": [
    "# Question 2"
   ]
  },
  {
   "cell_type": "code",
   "execution_count": 3,
   "id": "dacde4ec",
   "metadata": {},
   "outputs": [
    {
     "name": "stdout",
     "output_type": "stream",
     "text": [
      "Median of Y: 20.0187\n",
      "variance of Y: 0.4344\n",
      "Standard deviation of Y: 0.6591\n",
      "Median of X: 1.9971\n",
      "variance of X: 0.0087\n",
      "Standard deviation of X: 0.0934\n"
     ]
    }
   ],
   "source": [
    "np.random.seed(7052)\n",
    "X_mu, X_sigma = 2, 0.1   #mean and standard deviation\n",
    "e_mu, e_sigma = 0, 0.5\n",
    "X = np.random.normal(X_mu,X_sigma,100)\n",
    "e = np.random.normal(e_mu,e_sigma,100)\n",
    "Y = 10 + 5*X + e\n",
    "print(\"Median of Y: %.4f\" % statistics.median(Y))\n",
    "print(\"variance of Y: %.4f\" % statistics.variance(Y))\n",
    "print(\"Standard deviation of Y: %.4f\" % statistics.stdev(Y))\n",
    "print(\"Median of X: %.4f\" % statistics.median(X))\n",
    "print(\"variance of X: %.4f\" % statistics.variance(X))\n",
    "print(\"Standard deviation of X: %.4f\" % statistics.stdev(X))"
   ]
  },
  {
   "cell_type": "code",
   "execution_count": 4,
   "id": "ca6695ce",
   "metadata": {},
   "outputs": [],
   "source": [
    "d = {'X':X, 'Y':Y}\n",
    "df = pd.DataFrame(data=d)"
   ]
  },
  {
   "cell_type": "code",
   "execution_count": 5,
   "id": "96270e37",
   "metadata": {},
   "outputs": [
    {
     "data": {
      "text/html": [
       "<div>\n",
       "<style scoped>\n",
       "    .dataframe tbody tr th:only-of-type {\n",
       "        vertical-align: middle;\n",
       "    }\n",
       "\n",
       "    .dataframe tbody tr th {\n",
       "        vertical-align: top;\n",
       "    }\n",
       "\n",
       "    .dataframe thead th {\n",
       "        text-align: right;\n",
       "    }\n",
       "</style>\n",
       "<table border=\"1\" class=\"dataframe\">\n",
       "  <thead>\n",
       "    <tr style=\"text-align: right;\">\n",
       "      <th></th>\n",
       "      <th>X</th>\n",
       "      <th>Y</th>\n",
       "    </tr>\n",
       "  </thead>\n",
       "  <tbody>\n",
       "    <tr>\n",
       "      <th>count</th>\n",
       "      <td>100.000000</td>\n",
       "      <td>100.000000</td>\n",
       "    </tr>\n",
       "    <tr>\n",
       "      <th>mean</th>\n",
       "      <td>1.999833</td>\n",
       "      <td>20.010549</td>\n",
       "    </tr>\n",
       "    <tr>\n",
       "      <th>std</th>\n",
       "      <td>0.093418</td>\n",
       "      <td>0.659082</td>\n",
       "    </tr>\n",
       "    <tr>\n",
       "      <th>min</th>\n",
       "      <td>1.757524</td>\n",
       "      <td>18.160578</td>\n",
       "    </tr>\n",
       "    <tr>\n",
       "      <th>25%</th>\n",
       "      <td>1.928987</td>\n",
       "      <td>19.578923</td>\n",
       "    </tr>\n",
       "    <tr>\n",
       "      <th>50%</th>\n",
       "      <td>1.997107</td>\n",
       "      <td>20.018732</td>\n",
       "    </tr>\n",
       "    <tr>\n",
       "      <th>75%</th>\n",
       "      <td>2.062248</td>\n",
       "      <td>20.432654</td>\n",
       "    </tr>\n",
       "    <tr>\n",
       "      <th>max</th>\n",
       "      <td>2.208356</td>\n",
       "      <td>21.765294</td>\n",
       "    </tr>\n",
       "  </tbody>\n",
       "</table>\n",
       "</div>"
      ],
      "text/plain": [
       "                X           Y\n",
       "count  100.000000  100.000000\n",
       "mean     1.999833   20.010549\n",
       "std      0.093418    0.659082\n",
       "min      1.757524   18.160578\n",
       "25%      1.928987   19.578923\n",
       "50%      1.997107   20.018732\n",
       "75%      2.062248   20.432654\n",
       "max      2.208356   21.765294"
      ]
     },
     "execution_count": 5,
     "metadata": {},
     "output_type": "execute_result"
    }
   ],
   "source": [
    "df.describe()"
   ]
  },
  {
   "cell_type": "code",
   "execution_count": 83,
   "id": "24f84bed",
   "metadata": {},
   "outputs": [
    {
     "data": {
      "image/png": "[encoded data removed]",
      "text/plain": [
       "<Figure size 864x576 with 1 Axes>"
      ]
     },
     "metadata": {
      "needs_background": "light"
     },
     "output_type": "display_data"
    }
   ],
   "source": [
    "#boxplots\n",
    "Y_X_boxplots = df.boxplot(column=['X','Y'],figsize=(12,8))   #there are outliers for Y?"
   ]
  },
  {
   "cell_type": "code",
   "execution_count": 6,
   "id": "56a6c942",
   "metadata": {},
   "outputs": [
    {
     "data": {
      "text/html": [
       "<div>\n",
       "<style scoped>\n",
       "    .dataframe tbody tr th:only-of-type {\n",
       "        vertical-align: middle;\n",
       "    }\n",
       "\n",
       "    .dataframe tbody tr th {\n",
       "        vertical-align: top;\n",
       "    }\n",
       "\n",
       "    .dataframe thead th {\n",
       "        text-align: right;\n",
       "    }\n",
       "</style>\n",
       "<table border=\"1\" class=\"dataframe\">\n",
       "  <thead>\n",
       "    <tr style=\"text-align: right;\">\n",
       "      <th></th>\n",
       "      <th>X</th>\n",
       "      <th>Y</th>\n",
       "    </tr>\n",
       "  </thead>\n",
       "  <tbody>\n",
       "    <tr>\n",
       "      <th>X</th>\n",
       "      <td>1.000000</td>\n",
       "      <td>0.639476</td>\n",
       "    </tr>\n",
       "    <tr>\n",
       "      <th>Y</th>\n",
       "      <td>0.639476</td>\n",
       "      <td>1.000000</td>\n",
       "    </tr>\n",
       "  </tbody>\n",
       "</table>\n",
       "</div>"
      ],
      "text/plain": [
       "          X         Y\n",
       "X  1.000000  0.639476\n",
       "Y  0.639476  1.000000"
      ]
     },
     "execution_count": 6,
     "metadata": {},
     "output_type": "execute_result"
    }
   ],
   "source": [
    "df.corr()"
   ]
  },
  {
   "cell_type": "code",
   "execution_count": 11,
   "id": "3515141b",
   "metadata": {},
   "outputs": [
    {
     "data": {
      "text/plain": [
       "<AxesSubplot:xlabel='X', ylabel='Y'>"
      ]
     },
     "execution_count": 11,
     "metadata": {},
     "output_type": "execute_result"
    },
    {
     "data": {
      "image/png": "[encoded data removed]",
      "text/plain": [
       "<Figure size 432x288 with 1 Axes>"
      ]
     },
     "metadata": {
      "needs_background": "light"
     },
     "output_type": "display_data"
    }
   ],
   "source": [
    "#scatter plot\n",
    "scat = df.plot(kind='scatter',x='X',y='Y',alpha=1)\n",
    "scat"
   ]
  },
  {
   "cell_type": "code",
   "execution_count": 58,
   "id": "04b1b711",
   "metadata": {},
   "outputs": [
    {
     "name": "stdout",
     "output_type": "stream",
     "text": [
      "                            OLS Regression Results                            \n",
      "==============================================================================\n",
      "Dep. Variable:                      Y   R-squared:                       0.419\n",
      "Model:                            OLS   Adj. R-squared:                  0.413\n",
      "Method:                 Least Squares   F-statistic:                     70.73\n",
      "Date:                Fri, 15 Oct 2021   Prob (F-statistic):           3.35e-13\n",
      "Time:                        17:41:46   Log-Likelihood:                -74.059\n",
      "No. Observations:                 100   AIC:                             152.1\n",
      "Df Residuals:                      98   BIC:                             157.3\n",
      "Df Model:                           1                                         \n",
      "Covariance Type:            nonrobust                                         \n",
      "==============================================================================\n",
      "                 coef    std err          t      P>|t|      [0.025      0.975]\n",
      "------------------------------------------------------------------------------\n",
      "Intercept     10.5745      1.119      9.453      0.000       8.355      12.795\n",
      "X              4.7040      0.559      8.410      0.000       3.594       5.814\n",
      "==============================================================================\n",
      "Omnibus:                        1.896   Durbin-Watson:                   2.175\n",
      "Prob(Omnibus):                  0.388   Jarque-Bera (JB):                1.357\n",
      "Skew:                          -0.140   Prob(JB):                        0.507\n",
      "Kurtosis:                       3.497   Cond. No.                         54.5\n",
      "==============================================================================\n",
      "\n",
      "Notes:\n",
      "[1] Standard Errors assume that the covariance matrix of the errors is correctly specified.\n"
     ]
    }
   ],
   "source": [
    "results_2=smf.ols('Y ~ X',data=df).fit()\n",
    "print(results_2.summary())"
   ]
  },
  {
   "cell_type": "code",
   "execution_count": 64,
   "id": "0ead183e",
   "metadata": {},
   "outputs": [],
   "source": [
    "A = df[['X']]\n",
    "B = df[['Y']]\n",
    "X_train,X_test,Y_train,Y_test=train_test_split(A,B,test_size=0.3,random_state=0)\n",
    "reg=LinearRegression()\n",
    "reg.fit(X_train,Y_train)\n",
    "Y_pred=reg.predict(X_test)"
   ]
  },
  {
   "cell_type": "code",
   "execution_count": 74,
   "id": "59f2acc8",
   "metadata": {},
   "outputs": [
    {
     "name": "stdout",
     "output_type": "stream",
     "text": [
      "Linear Regression MSE: 0.2515\n"
     ]
    }
   ],
   "source": [
    "mse=mean_squared_error(Y_pred,Y_test)\n",
    "print(\"Linear Regression MSE: %.4f\" % mse)"
   ]
  },
  {
   "cell_type": "code",
   "execution_count": 83,
   "id": "926d28ad",
   "metadata": {},
   "outputs": [
    {
     "data": {
      "image/png": "[encoded data removed]",
      "text/plain": [
       "<Figure size 432x288 with 1 Axes>"
      ]
     },
     "metadata": {
      "needs_background": "light"
     },
     "output_type": "display_data"
    }
   ],
   "source": [
    "fig, ax = plt.subplots()\n",
    "ax.scatter(Y_test, Y_pred)\n",
    "ax.plot([Y_test.min(), Y_test.max()], [Y_test.min(), Y_test.max()], 'r--')\n",
    "ax.set_xlabel('Measured')\n",
    "ax.set_ylabel('Predicted')\n",
    "plt.show()"
   ]
  },
  {
   "cell_type": "code",
   "execution_count": 26,
   "id": "86823025",
   "metadata": {},
   "outputs": [
    {
     "data": {
      "image/png": "[encoded data removed]",
      "text/plain": [
       "<Figure size 432x288 with 1 Axes>"
      ]
     },
     "metadata": {
      "needs_background": "light"
     },
     "output_type": "display_data"
    }
   ],
   "source": [
    "sample_mean_X = statistics.mean(X)\n",
    "sample_mean_Y = statistics.mean(Y)\n",
    "plt.scatter(X, Y, c='blue')\n",
    "plt.scatter(sample_mean_X, sample_mean_Y, c='red')\n",
    "plt.plot(X,10.5745 + 4.7050*X)\n",
    "plt.xlabel(\"X\")\n",
    "plt.ylabel(\"Y\")\n",
    "plt.show()"
   ]
  }
 ],
 "metadata": {
  "kernelspec": {
   "display_name": "Python 3",
   "language": "python",
   "name": "python3"
  },
  "language_info": {
   "codemirror_mode": {
    "name": "ipython",
    "version": 3
   },
   "file_extension": ".py",
   "mimetype": "text/x-python",
   "name": "python",
   "nbconvert_exporter": "python",
   "pygments_lexer": "ipython3",
   "version": "3.8.8"
  }
 },
 "nbformat": 4,
 "nbformat_minor": 5
}
